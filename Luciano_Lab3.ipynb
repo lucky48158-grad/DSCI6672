{
  "nbformat": 4,
  "nbformat_minor": 0,
  "metadata": {
    "kernelspec": {
      "name": "python3",
      "display_name": "Python 3"
    },
    "colab": {
      "name": "Luciano-Lab3",
      "provenance": [],
      "collapsed_sections": []
    }
  },
  "cells": [
    {
      "cell_type": "markdown",
      "metadata": {
        "id": "i0Wo-g7X0Bi_",
        "colab_type": "text"
      },
      "source": [
        "# **LAB 3 - LINEAR REGRESSION AND SPAM SVM MODELS**\n",
        "# <b><u>Linear Regression</u></b>"
      ]
    },
    {
      "cell_type": "markdown",
      "metadata": {
        "id": "fpb5hRnw5fZz",
        "colab_type": "text"
      },
      "source": [
        "**# Regression Models**\n",
        "Regression models are undoubtedly the most used of all learning algorithms. Developed from statistical analysis, regression models have quickly spread in ML and in AI in general. The most known and used regression model is linear regression, thanks to the simplicity of its implementation and the good predictive capacity that it allows us to achieve in many practical cases (such as estimating the level of house prices in relation to changes in interest rates).\n",
        "\n",
        "Alongside the linear model, there is also the logistic regression model, especially useful in the most complex cases, where the linear model proves to be too rigid for the data to be treated. Both models, therefore, represent the tools of choice for analysts and algorithm developers.\n",
        "\n",
        "In this section, we will analyze the characteristics and advantages of regression models, and their possible uses in the field of spam detection. Let's start our analysis with the simplest model, the linear regression model, which will help us make comparisons with the logistic regression model.\n",
        "\n",
        "# **Introducing linear regression models**\n",
        "The linear regression model is characterized by the fact that the data is represented as sums of features, leading to a straight line in the Cartesian plane.In formal terms, linear regression can be described by the following formula:\n",
        "\n",
        "<img src=http://vbehzadan.com/AISec/linreg1.png width=\"150\">\n",
        "\n",
        "Here, y represents the predicted values, which are the result of the linear combination of the single features (represented by the X matrix) to which a weight vector is applied (represented by the w vector), and by the addition of a constant (β), which represents the default predicted value when all features assume the value of zero (or simply are missing).The β constant can also be interpreted as the systematic distortion of the model, and corresponds graphically with the intercept value on the vertical axis of the Cartesian plane (that is to say, the point where the regression line meets the vertical axis).Obviously, the linear model can be extended to cases in which there is more than just one feature. In this case, the mathematical formalization assumes the following aspect:\n",
        "\n",
        "<img src=http://vbehzadan.com/AISec/linreg1.png width=\"150\">\n",
        "\n",
        "The geometric representation of the previous formula will correspond to a hyperplane in the n-dimensional space, rather than a straight line in the Cartesian plane. We have mentioned the importance of the  constant as the default predictive value of the model in the case in which the features assume a value equal to zero.\n",
        "\n",
        "The individual w_i​​ values within the vector of the weights, , can be interpreted as a measure of the intensity of the corresponding features, x_i.\n",
        "\n",
        "In practice, if the value of the w_i weight is close to zero, the corresponding x_i feature assumes a minimum importance (or none at all) in the determination of predicted values. If, instead, the w_i weight assumes positive values, it will amplify the final value returned by the regression model.\n",
        "\n",
        "If, on the other hand, w_i assumes negative values, it will help to reverse the direction of the model's predictions, as the value of the x_i feature increases, it will correspond to a decrease in the value estimated by the regression. Hence, it is important to consider the impacts of the weights on the x_i features, as they are determinant in the correctness of the predictions that we can derive from the regression model.\n",
        "\n",
        "**# Logistic Regression**\n",
        "We have seen that one of the limits of linear regression is that it cannot be used to solve classification problems:\n",
        "\n",
        "In fact, in case we wanted to use linear regression to classify the samples within two classes (as is the case in spam detection) whose labels are represented by numerical values ​​(for example, -1 for spam, and +1 for ham), the linear regression model will try to identify the result that is closest to the target value (that is, linear regression has the purpose of minimizing forecasting errors). The negative side effect of this behavior is that it leads to greater classification errors. With respect to the Perceptron, linear regression does not give us good results in terms of classification accuracy, precisely because linear regression works better with continuous intervals of values, rather than with classes of discrete values ​​(as is the case in classification).\n",
        "\n",
        "An alternative strategy, most useful for the purposes of classification, consists of estimating the probability of the samples belonging to individual classes. This is the strategy adopted by logistic regression (which, in spite of the name, constitutes a classification algorithm, rather than a regression model).The mathematical formulation of logistic regression is as follows:\n",
        "\n",
        "<img src=http://vbehzadan.com/AISec/logistic1.png width=\"200\">\n",
        "\n",
        "Where:\n",
        "\n",
        "<img src=http://vbehzadan.com/AISec/logistic2.png width=\"150\">\n",
        "\n",
        "P(y=c|x) therefore measures the conditional probability that a given sample falls into the c class, given the x_i features."
      ]
    },
    {
      "cell_type": "code",
      "metadata": {
        "id": "OiLSYUSo4Qvl",
        "colab_type": "code",
        "colab": {}
      },
      "source": [
        "#Import the libraries to be used in this lab\n",
        "import pandas as pd\n",
        "import numpy as np\n",
        "from sklearn import *\n",
        "from sklearn.linear_model import LogisticRegression\n",
        "from sklearn.metrics import accuracy_score\n",
        "import warnings \n",
        "warnings.simplefilter('ignore')\n"
      ],
      "execution_count": 0,
      "outputs": []
    },
    {
      "cell_type": "code",
      "metadata": {
        "id": "AVecDCzc4Qvo",
        "colab_type": "code",
        "colab": {}
      },
      "source": [
        "#Using the phishing_dataset, generate a numpy array using commas as a delimiter\n",
        "phishing_dataset = np.genfromtxt('phishing_dataset.csv', delimiter=',', dtype=np.int32)\n",
        "\n",
        "#X data referrs to samples and y data refers to targers\n",
        "samples = phishing_dataset[:,:-1]\n",
        "targets = phishing_dataset[:, -1]"
      ],
      "execution_count": 0,
      "outputs": []
    },
    {
      "cell_type": "code",
      "metadata": {
        "id": "PxTkqknD4Qvr",
        "colab_type": "code",
        "colab": {}
      },
      "source": [
        "#split the dataset into 4 smaller ones for taining and testing based on 25% of the dataset\n",
        "\n",
        "from sklearn.model_selection import train_test_split\n",
        "\n",
        "training_samples, testing_samples, training_targets, testing_targets = train_test_split(\n",
        "         samples, targets, test_size=0.25, random_state=0)"
      ],
      "execution_count": 0,
      "outputs": []
    },
    {
      "cell_type": "code",
      "metadata": {
        "id": "r_Oq_aqX4Qvt",
        "colab_type": "code",
        "colab": {}
      },
      "source": [
        "#define that we want to use Logistic Regression\n",
        "log_classifier = LogisticRegression()"
      ],
      "execution_count": 0,
      "outputs": []
    },
    {
      "cell_type": "code",
      "metadata": {
        "id": "gaMTQ3vx4Qvy",
        "colab_type": "code",
        "outputId": "b5b7064b-90d3-4461-ef28-30d2f6ad8a2c",
        "colab": {
          "base_uri": "https://localhost:8080/",
          "height": 104
        }
      },
      "source": [
        "#fit our model to the training data\n",
        "log_classifier.fit(training_samples, training_targets)"
      ],
      "execution_count": 0,
      "outputs": [
        {
          "output_type": "execute_result",
          "data": {
            "text/plain": [
              "LogisticRegression(C=1.0, class_weight=None, dual=False, fit_intercept=True,\n",
              "                   intercept_scaling=1, l1_ratio=None, max_iter=100,\n",
              "                   multi_class='auto', n_jobs=None, penalty='l2',\n",
              "                   random_state=None, solver='lbfgs', tol=0.0001, verbose=0,\n",
              "                   warm_start=False)"
            ]
          },
          "metadata": {
            "tags": []
          },
          "execution_count": 35
        }
      ]
    },
    {
      "cell_type": "code",
      "metadata": {
        "id": "b-gt57j24Qv1",
        "colab_type": "code",
        "colab": {}
      },
      "source": [
        "predictions = log_classifier.predict(testing_samples)"
      ],
      "execution_count": 0,
      "outputs": []
    },
    {
      "cell_type": "code",
      "metadata": {
        "id": "K0A52vBU4Qv7",
        "colab_type": "code",
        "outputId": "12b737e6-aa85-453a-e70e-f13db9fe47f8",
        "colab": {
          "base_uri": "https://localhost:8080/",
          "height": 52
        }
      },
      "source": [
        "from sklearn import metrics\n",
        "cnf_matrix = metrics.confusion_matrix(testing_targets, predictions)\n"
      ],
      "execution_count": 0,
      "outputs": [
        {
          "output_type": "execute_result",
          "data": {
            "text/plain": [
              "array([[1121,  128],\n",
              "       [  84, 1431]])"
            ]
          },
          "metadata": {
            "tags": []
          },
          "execution_count": 39
        }
      ]
    },
    {
      "cell_type": "code",
      "metadata": {
        "id": "y2fUy8svwPhS",
        "colab_type": "code",
        "outputId": "628803f3-b9c8-4981-dc62-f627a54a97dc",
        "colab": {
          "base_uri": "https://localhost:8080/",
          "height": 343
        }
      },
      "source": [
        "# import required modules\n",
        "import numpy as np\n",
        "import matplotlib.pyplot as plt\n",
        "import seaborn as sns\n",
        "%matplotlib inline\n",
        "\n",
        "class_names=[0,1] # name  of classes\n",
        "fig, ax = plt.subplots()\n",
        "tick_marks = np.arange(len(class_names))\n",
        "plt.xticks(tick_marks, class_names)\n",
        "plt.yticks(tick_marks, class_names)\n",
        "# create heatmap\n",
        "sns.heatmap(pd.DataFrame(cnf_matrix), annot=True, cmap=\"YlGnBu\" ,fmt='g')\n",
        "ax.xaxis.set_label_position(\"top\")\n",
        "plt.tight_layout()\n",
        "plt.title('Confusion matrix', y=1.1)\n",
        "plt.ylabel('Actual label')\n",
        "plt.xlabel('Predicted label')\n"
      ],
      "execution_count": 0,
      "outputs": [
        {
          "output_type": "execute_result",
          "data": {
            "text/plain": [
              "Text(0.5, 257.44, 'Predicted label')"
            ]
          },
          "metadata": {
            "tags": []
          },
          "execution_count": 40
        },
        {
          "output_type": "display_data",
          "data": {
            "image/png": "[encoded data removed]",
            "text/plain": [
              "<Figure size 432x288 with 2 Axes>"
            ]
          },
          "metadata": {
            "tags": []
          }
        }
      ]
    },
    {
      "cell_type": "markdown",
      "metadata": {
        "id": "HWtNfDf5xibM",
        "colab_type": "text"
      },
      "source": [
        "A confusion matrix is used to evaluate the performance of a classification model.  In our particular model, 1121 and 1431 are actual predictions and 128 and 84 are incorrect predictions"
      ]
    },
    {
      "cell_type": "code",
      "metadata": {
        "id": "0GYSXMazweu5",
        "colab_type": "code",
        "outputId": "4068197f-7342-4781-9321-4faba6d22d4c",
        "colab": {
          "base_uri": "https://localhost:8080/",
          "height": 69
        }
      },
      "source": [
        "print(\"Accuracy:\",metrics.accuracy_score(testing_targets, predictions)*100)\n",
        "print(\"Precision:\",metrics.precision_score(testing_targets, predictions)*100)\n",
        "print(\"Recall:\",metrics.recall_score(testing_targets, predictions)*100)"
      ],
      "execution_count": 0,
      "outputs": [
        {
          "output_type": "stream",
          "text": [
            "Accuracy: 92.32995658465991\n",
            "Precision: 91.78960872354072\n",
            "Recall: 94.45544554455445\n"
          ],
          "name": "stdout"
        }
      ]
    },
    {
      "cell_type": "markdown",
      "metadata": {
        "id": "m_XOxDzGx17b",
        "colab_type": "text"
      },
      "source": [
        "Accuracy - By choosing a 25% test size, our model has an accuracy of approximately 92%\n",
        "\n",
        "Precision - How often our model is correct when making a prediction.  Since this model applies to phishing data, our model is correct in identifying phishing 91% if the time.\n",
        "\n",
        "Recall - If there are phishing instances in the test set, this model can identify them 94% of the time."
      ]
    },
    {
      "cell_type": "code",
      "metadata": {
        "id": "_VPCEN43xE8Z",
        "colab_type": "code",
        "outputId": "56e1c89c-31c4-4881-9323-592492fd65ba",
        "colab": {
          "base_uri": "https://localhost:8080/",
          "height": 265
        }
      },
      "source": [
        "y_pred_proba = log_classifier.predict_proba(testing_samples)[::,1]\n",
        "fpr, tpr, _ = metrics.roc_curve(testing_targets,  y_pred_proba)\n",
        "auc = metrics.roc_auc_score(testing_targets, y_pred_proba)\n",
        "plt.plot(fpr,tpr,label=\"data 1, auc=\"+str(auc))\n",
        "plt.legend(loc=4)\n",
        "plt.show()"
      ],
      "execution_count": 0,
      "outputs": [
        {
          "output_type": "display_data",
          "data": {
            "image/png": "[encoded data removed]",
            "text/plain": [
              "<Figure size 432x288 with 1 Axes>"
            ]
          },
          "metadata": {
            "tags": []
          }
        }
      ]
    },
    {
      "cell_type": "markdown",
      "metadata": {
        "id": "jekiVAUvywO8",
        "colab_type": "text"
      },
      "source": [
        "A Receiver Operating Characteristic (ROC) curve plots the true positive rate against the false positive rate.  An AUC score of 1 is a perfect classifier.  Our model has a 0.97 score indicating that this is a very good model for this type of data."
      ]
    },
    {
      "cell_type": "markdown",
      "metadata": {
        "id": "xdHiR2IY1ew-",
        "colab_type": "text"
      },
      "source": [
        "#<b><u>Support Vector Machines (SVM)</b></u>"
      ]
    },
    {
      "cell_type": "markdown",
      "metadata": {
        "id": "AINQh9tp2QRT",
        "colab_type": "text"
      },
      "source": [
        "SVMs are an example of supervised algorithms (as well as the Perceptron), whose task is to identify the hyperplane that best separates classes of data that can be represented in a multidimensional space. It is possible, however, to identify different hyperplanes that correctly separate the data from each other; in this case, the choice falls on the hyperplane that optimizes the prefixed margin, that is, the distance between the hyperplane and the data.One of the advantages of the SVM is that the identified hyperplane is not limited to the linear model (unlike the Perceptron), as shown in the following screenshot:\n",
        "\n",
        "<img src=http://vbehzadan.com/AISec/SVM1.png width=\"300\">\n",
        "\n",
        "The SVM can be considered as an extension of the Perceptron, however. While in the case of the Perceptron, our goal was to minimize classification errors, in the case of SVM, our goal instead is to maximize the margin, that is, the distance between the hyperplane and the training data closest to the hyperplane (the nearest training data is thus known as a **support vector**).\n",
        "\n",
        "**# SVM Optimization Strategy**\n",
        "Why choose the hyperplane that maximizes the margin in the first place? The reason lies in the fact that wider margins correspond to fewer classification errors, while with narrower margins we risk incurring the phenomenon known as overfitting (a real disaster that we may incur when dealing with iterative algorithms, as we will see when we will discuss verification and optimization strategies for our AI solutions).We can translate the SVM optimization strategy in mathematical terms, similar to what we have done in the case of the Perceptron (which remains our starting point). We define the condition that must be met to assure that the SVM correctly identifies the best hyperplane that separates the classes of data:\n",
        "\n",
        "<img src=http://vbehzadan.com/AISec/SVM2.png width=\"200\">\n",
        "\n",
        "Here, the β constant represents the bias, while µ represents our margin (which assumes the maximum possible positive value in order to obtain the best separation between the classes of values)\n",
        "\n",
        "In practice, to the algebraic multiplication we add the value of the β bias, which allows us to obtain a value greater than or equal to zero, in the presence of values ​​that fall in the same class label (remember that y can only assume the values of ​​-1 or +1 to distinguish between the corresponding classes to which the samples belong, as we have already seen in the case of the Perceptron).\n",
        "\n",
        "At this point, the value calculated in this way is compared with the Mu margin in order to ensure that the distance between each sample and the separating hyperplane we identified (thus constituting our decision boundary) is greater or at most equal to our margin (which, as we have seen, is identified as the maximum possible positive value, in order to obtain the best separation between the classes of values)."
      ]
    },
    {
      "cell_type": "code",
      "metadata": {
        "id": "hMbeZ9NY2w53",
        "colab_type": "code",
        "colab": {}
      },
      "source": [
        "import pandas as pd\n",
        "import numpy as np\n",
        "import matplotlib.pyplot as plt  \n",
        "\n",
        "df = pd.read_csv('sms_spam_svm.csv')\n",
        "\n",
        "y = df.iloc[:, 0].values\n",
        "\n",
        "#if y is equal to spam, giving it the label -1, otherwise given 1\n",
        "y = np.where(y == 'spam', -1, 1)\n",
        "\n",
        "X = df.iloc[:, [1, 2]].values"
      ],
      "execution_count": 0,
      "outputs": []
    },
    {
      "cell_type": "code",
      "metadata": {
        "id": "1vbGqXss2yQd",
        "colab_type": "code",
        "colab": {}
      },
      "source": [
        "from sklearn.model_selection import train_test_split\n",
        "\n",
        "X_train, X_test, y_train, y_test = train_test_split(\n",
        "         X, y, test_size=0.25, random_state=0)"
      ],
      "execution_count": 0,
      "outputs": []
    },
    {
      "cell_type": "code",
      "metadata": {
        "id": "ny4irlEM243m",
        "colab_type": "code",
        "colab": {}
      },
      "source": [
        "from sklearn.svm import SVC\n",
        "# c is a regularization parameter; set of techniques that enhance the generalizability of the model\n",
        "#random_state is the starting seed used to shuffle the data using a random number generator\n",
        "svm = SVC(kernel='linear', C=1.0, random_state=1)\n",
        "svm.fit(X_train, y_train)\n",
        "\n",
        "y_pred = svm.predict(X_test)"
      ],
      "execution_count": 0,
      "outputs": []
    },
    {
      "cell_type": "code",
      "metadata": {
        "id": "cQj5cIU126BQ",
        "colab_type": "code",
        "outputId": "7d48c93b-f973-43c5-9282-06ff4eef8dd0",
        "colab": {
          "base_uri": "https://localhost:8080/",
          "height": 297
        }
      },
      "source": [
        "# Thanks to Sebastian Raschka for 'plot_decision_regions'\n",
        "# https://github.com/rasbt/python-machine-learning-book\n",
        "from mlxtend.plotting import plot_decision_regions\n",
        "import matplotlib.pyplot as plt\n",
        "\n",
        "X_combined = np.vstack((X_train, X_test))\n",
        "y_combined = np.hstack((y_train, y_test))\n",
        "\n",
        "ax = plot_decision_regions(X_combined, y_combined,\n",
        "                      clf=svm, legend=0)\n",
        "\n",
        "plt.xlabel('suspect words')\n",
        "plt.ylabel('spam or ham')\n",
        "plt.legend(loc='upper right')\n",
        "plt.tight_layout()\n",
        "handles, labels = ax.get_legend_handles_labels()\n",
        "ax.legend(handles, \n",
        "          ['Spam', 'Ham'], \n",
        "           framealpha=0.3, scatterpoints=1)\n",
        "plt.show()"
      ],
      "execution_count": 0,
      "outputs": [
        {
          "output_type": "display_data",
          "data": {
            "image/png": "[encoded data removed]",
            "text/plain": [
              "<Figure size 432x288 with 1 Axes>"
            ]
          },
          "metadata": {
            "tags": []
          }
        }
      ]
    },
    {
      "cell_type": "code",
      "metadata": {
        "id": "VCgOc1BJ2-2A",
        "colab_type": "code",
        "outputId": "830b0bd7-268f-4380-a11d-4e6e547dc9da",
        "colab": {
          "base_uri": "https://localhost:8080/",
          "height": 52
        }
      },
      "source": [
        "from sklearn.metrics import accuracy_score\n",
        "\n",
        "print('Misclassified samples: %d' % (y_test != y_pred).sum())\n",
        "accuracy = accuracy_score(y_test, y_pred)*100\n",
        "print ('Accuracy: %.2f' % accuracy +\"%\")"
      ],
      "execution_count": 0,
      "outputs": [
        {
          "output_type": "stream",
          "text": [
            "Misclassified samples: 6\n",
            "Accuracy: 84.21%\n"
          ],
          "name": "stdout"
        }
      ]
    }
  ]
}